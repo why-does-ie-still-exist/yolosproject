{
 "cells": [
  {
   "cell_type": "code",
   "execution_count": 1,
   "outputs": [
    {
     "name": "stdout",
     "output_type": "stream",
     "text": [
      "loading Roboflow workspace...\n",
      "loading Roboflow project...\n",
      "Downloading Dataset Version Zip in Armor-Plates-26 to coco: 100% [134072528 / 134072528] bytes\n"
     ]
    },
    {
     "name": "stderr",
     "output_type": "stream",
     "text": [
      "Extracting Dataset Version Zip to Armor-Plates-26 in coco:: 100%|██████████| 5568/5568 [00:07<00:00, 705.08it/s]\n"
     ]
    }
   ],
   "source": [
    "ROBOFLOW_API_KEY = \"6wzCHB3PAi6vCKlHrZT5\"\n",
    "\n",
    "from roboflow import Roboflow\n",
    "\n",
    "rf = Roboflow(api_key=ROBOFLOW_API_KEY)\n",
    "project = rf.workspace(\"rm-2021\").project(\"armor-plates\")\n",
    "dataset = project.version(26).download(\"coco\")"
   ],
   "metadata": {
    "collapsed": false,
    "pycharm": {
     "name": "#%%\n"
    }
   }
  },
  {
   "cell_type": "code",
   "execution_count": 87,
   "outputs": [
    {
     "name": "stdout",
     "output_type": "stream",
     "text": [
      "loading annotations into memory...\n",
      "Done (t=0.64s)\n",
      "creating index...\n",
      "index created!\n",
      "loading annotations into memory...\n",
      "Done (t=0.01s)\n",
      "creating index...\n",
      "index created!\n"
     ]
    }
   ],
   "source": [
    "from yolosutils import CocoDetection, get_collate_fn, get_yolos_feature_extractor\n",
    "import torch\n",
    "from pytorch_lightning import LightningModule\n",
    "from transformers import AutoModelForObjectDetection\n",
    "from torch.optim import AdamW\n",
    "MODEL_SIZE = 'tiny'\n",
    "\n",
    "feature_extractor = get_yolos_feature_extractor(MODEL_SIZE)\n",
    "\n",
    "train_dataset = CocoDetection(img_folder=(dataset.location + '/train'), feature_extractor=feature_extractor)\n",
    "val_dataset = CocoDetection(img_folder=(dataset.location + '/valid'), feature_extractor=feature_extractor,\n",
    "                            train=False)\n",
    "\n",
    "from torch.utils.data import Subset\n",
    "\n",
    "indices = torch.arange(25)\n",
    "val_dataset = Subset(val_dataset, indices)\n",
    "\n",
    "from torch.utils.data import DataLoader\n",
    "\n",
    "collate_fn = get_collate_fn(feature_extractor)\n",
    "\n",
    "train_dataloader = DataLoader(train_dataset, collate_fn=collate_fn, shuffle=True, batch_size=1, num_workers=0)\n",
    "val_dataloader = DataLoader(val_dataset, collate_fn=collate_fn, batch_size=1, num_workers=0)\n",
    "\n",
    "from torchmetrics.detection.mean_ap import MeanAveragePrecision\n",
    "\n",
    "MODEL_PREFIX = 'hustvl/yolos-'\n",
    "\n",
    "class YoloS(LightningModule):\n",
    "\n",
    "    def __init__(self, lr, weight_decay, model_size):\n",
    "        super().__init__()\n",
    "        # replace COCO classification head with custom head\n",
    "        self.model = AutoModelForObjectDetection.from_pretrained(MODEL_PREFIX + model_size,\n",
    "                                                                 # num_labels=2,\n",
    "                                                                 # ignore_mismatched_sizes=True\n",
    "                                                                 )\n",
    "        # see https://github.com/PyTorchLightning/pytorch-lightning/pull/1896\n",
    "        self.lr = lr\n",
    "        self.weight_decay = weight_decay\n",
    "        self.stored_val_dataloader = val_dataloader\n",
    "        self.stored_train_dataloader = train_dataloader\n",
    "        self.batch_size = 1\n",
    "        self.map = MeanAveragePrecision(box_format=\"cxcywh\")\n",
    "        self.save_hyperparameters()\n",
    "\n",
    "    def on_train_start(self):\n",
    "        self.log(\"batch_size\", float(self.batch_size))\n",
    "\n",
    "    def forward(self, pixel_values):\n",
    "        outputs = self.model(pixel_values=pixel_values)\n",
    "        return outputs\n",
    "\n",
    "    def common_step(self, batch, batch_idx):\n",
    "        pixel_values = batch[\"pixel_values\"]\n",
    "        labels = [{k: v.to(self.device) for k, v in t.items()} for t in batch[\"labels\"]]\n",
    "\n",
    "        outputs = self.model(pixel_values=pixel_values, labels=labels)\n",
    "\n",
    "        loss = outputs.loss\n",
    "        loss_dict = outputs.loss_dict\n",
    "\n",
    "        return loss, loss_dict\n",
    "\n",
    "    def training_step(self, batch, batch_idx):\n",
    "        loss, loss_dict = self.common_step(batch, batch_idx)\n",
    "        # logs metrics for each training_step,\n",
    "        # and the average across the epoch\n",
    "        self.log(\"train/loss\",\n",
    "                 loss)  # logging metrics with a forward slash will ensure the train and validation metrics as split into 2 separate sections in the W&B workspace\n",
    "        for k, v in loss_dict.items():\n",
    "            self.log(\"train/\" + k,\n",
    "                     v.item())  # logging metrics with a forward slash will ensure the train and validation metrics as split into 2 separate sections in the W&B workspace\n",
    "\n",
    "        return loss\n",
    "\n",
    "    def validation_step(self, batch, batch_idx):\n",
    "        loss, loss_dict = self.common_step(batch, batch_idx)\n",
    "        self.log(\"validation/loss\",\n",
    "                 loss)\n",
    "        for k, v in loss_dict.items():\n",
    "            self.log(\"validation/\" + k,\n",
    "                     v.item())\n",
    "\n",
    "        actualdata = batch['labels'][0]\n",
    "        actualboxes = actualdata['boxes'].cpu().double()\n",
    "        actualclasses = actualdata['class_labels'].cpu().double()\n",
    "        modelout = self.model(pixel_values=batch['pixel_values'])\n",
    "        pred_boxes = modelout.pred_boxes[0].cpu().double()\n",
    "\n",
    "        pred_scores=modelout.logits.cpu().double()[0, :, :].softmax(-1).max(-1).values\n",
    "        pred_labels=modelout.logits.cpu().double()[0, :, :].softmax(-1).max(-1).indices.float()\n",
    "\n",
    "        notempty = torch.logical_or(pred_labels == 1, pred_labels == 2)\n",
    "        pred_labels = pred_labels[notempty]\n",
    "        pred_scores = pred_scores[notempty]\n",
    "        pred_boxes = pred_boxes[notempty]\n",
    "\n",
    "        preds = [\n",
    "            dict(\n",
    "                boxes=pred_boxes,\n",
    "                scores=pred_scores,\n",
    "                labels=pred_labels\n",
    "            )\n",
    "        ]\n",
    "        target = [\n",
    "            dict(\n",
    "                boxes=actualboxes,\n",
    "                labels=actualclasses,\n",
    "            )\n",
    "        ]\n",
    "        errored = False\n",
    "        try:\n",
    "            testmap = MeanAveragePrecision(box_format=\"cxcywh\")\n",
    "            testmap.update(preds, target)\n",
    "            testmap.compute()\n",
    "            print(testmap.compute())\n",
    "        except Exception:\n",
    "            errored = True\n",
    "        if not errored:\n",
    "            self.map.update(preds, target)\n",
    "            # print(self.map.compute()['map'])\n",
    "        return loss\n",
    "\n",
    "    def validation_epoch_end(self, validation_step_outputs):\n",
    "        print(self.map.compute())\n",
    "\n",
    "    def configure_optimizers(self):\n",
    "        optimizer = AdamW(self.parameters(), lr=self.lr,\n",
    "                                      weight_decay=self.weight_decay)\n",
    "        return optimizer\n",
    "\n",
    "    def val_dataloader(self):\n",
    "        return self.stored_val_dataloader\n",
    "\n",
    "    def train_dataloader(self):\n",
    "        return self.stored_train_dataloader"
   ],
   "metadata": {
    "collapsed": false,
    "pycharm": {
     "name": "#%%\n"
    }
   }
  },
  {
   "cell_type": "code",
   "execution_count": 88,
   "outputs": [
    {
     "name": "stderr",
     "output_type": "stream",
     "text": [
      "GPU available: True (cuda), used: False\n",
      "TPU available: False, using: 0 TPU cores\n",
      "IPU available: False, using: 0 IPUs\n",
      "HPU available: False, using: 0 HPUs\n",
      "GPU available but not used. Set `accelerator` and `devices` using `Trainer(accelerator='gpu', devices=1)`.\n",
      "The dataloader, val_dataloader 0, does not have many workers which may be a bottleneck. Consider increasing the value of the `num_workers` argument` (try 4 which is the number of cpus on this machine) in the `DataLoader` init to improve performance.\n"
     ]
    },
    {
     "data": {
      "text/plain": "Validation: 0it [00:00, ?it/s]",
      "application/vnd.jupyter.widget-view+json": {
       "version_major": 2,
       "version_minor": 0,
       "model_id": "40ceb9b45058420cbbccc53eae3ff66d"
      }
     },
     "metadata": {},
     "output_type": "display_data"
    },
    {
     "name": "stdout",
     "output_type": "stream",
     "text": [
      "{'map': tensor(-1.), 'map_50': tensor(-1.), 'map_75': tensor(-1.), 'map_small': tensor(-1.), 'map_medium': tensor(-1.), 'map_large': tensor(-1.), 'mar_1': tensor(-1.), 'mar_10': tensor(-1.), 'mar_100': tensor(-1.), 'mar_small': tensor(-1.), 'mar_medium': tensor(-1.), 'mar_large': tensor(-1.), 'map_per_class': tensor(-1.), 'mar_100_per_class': tensor(-1.)}\n",
      "{'map': tensor(0.), 'map_50': tensor(0.), 'map_75': tensor(0.), 'map_small': tensor(0.), 'map_medium': tensor(-1.), 'map_large': tensor(-1.), 'mar_1': tensor(0.), 'mar_10': tensor(0.), 'mar_100': tensor(0.), 'mar_small': tensor(0.), 'mar_medium': tensor(-1.), 'mar_large': tensor(-1.), 'map_per_class': tensor(-1.), 'mar_100_per_class': tensor(-1.)}\n",
      "{'map': tensor(0.), 'map_50': tensor(0.), 'map_75': tensor(0.), 'map_small': tensor(0.), 'map_medium': tensor(-1.), 'map_large': tensor(-1.), 'mar_1': tensor(0.), 'mar_10': tensor(0.), 'mar_100': tensor(0.), 'mar_small': tensor(0.), 'mar_medium': tensor(-1.), 'mar_large': tensor(-1.), 'map_per_class': tensor(-1.), 'mar_100_per_class': tensor(-1.)}\n",
      "{'map': tensor(-1.), 'map_50': tensor(-1.), 'map_75': tensor(-1.), 'map_small': tensor(-1.), 'map_medium': tensor(-1.), 'map_large': tensor(-1.), 'mar_1': tensor(-1.), 'mar_10': tensor(-1.), 'mar_100': tensor(-1.), 'mar_small': tensor(-1.), 'mar_medium': tensor(-1.), 'mar_large': tensor(-1.), 'map_per_class': tensor(-1.), 'mar_100_per_class': tensor(-1.)}\n",
      "{'map': tensor(0.), 'map_50': tensor(0.), 'map_75': tensor(0.), 'map_small': tensor(0.), 'map_medium': tensor(-1.), 'map_large': tensor(-1.), 'mar_1': tensor(0.), 'mar_10': tensor(0.), 'mar_100': tensor(0.), 'mar_small': tensor(0.), 'mar_medium': tensor(-1.), 'mar_large': tensor(-1.), 'map_per_class': tensor(-1.), 'mar_100_per_class': tensor(-1.)}\n",
      "{'map': tensor(0.), 'map_50': tensor(0.), 'map_75': tensor(0.), 'map_small': tensor(0.), 'map_medium': tensor(-1.), 'map_large': tensor(-1.), 'mar_1': tensor(0.), 'mar_10': tensor(0.), 'mar_100': tensor(0.), 'mar_small': tensor(0.), 'mar_medium': tensor(-1.), 'mar_large': tensor(-1.), 'map_per_class': tensor(-1.), 'mar_100_per_class': tensor(-1.)}\n",
      "{'map': tensor(0.), 'map_50': tensor(0.), 'map_75': tensor(0.), 'map_small': tensor(0.), 'map_medium': tensor(-1.), 'map_large': tensor(-1.), 'mar_1': tensor(0.), 'mar_10': tensor(0.), 'mar_100': tensor(0.), 'mar_small': tensor(0.), 'mar_medium': tensor(-1.), 'mar_large': tensor(-1.), 'map_per_class': tensor(-1.), 'mar_100_per_class': tensor(-1.)}\n",
      "{'map': tensor(0.), 'map_50': tensor(0.), 'map_75': tensor(0.), 'map_small': tensor(0.), 'map_medium': tensor(-1.), 'map_large': tensor(-1.), 'mar_1': tensor(0.), 'mar_10': tensor(0.), 'mar_100': tensor(0.), 'mar_small': tensor(0.), 'mar_medium': tensor(-1.), 'mar_large': tensor(-1.), 'map_per_class': tensor(-1.), 'mar_100_per_class': tensor(-1.)}\n",
      "{'map': tensor(0.), 'map_50': tensor(0.), 'map_75': tensor(0.), 'map_small': tensor(0.), 'map_medium': tensor(-1.), 'map_large': tensor(-1.), 'mar_1': tensor(0.), 'mar_10': tensor(0.), 'mar_100': tensor(0.), 'mar_small': tensor(0.), 'mar_medium': tensor(-1.), 'mar_large': tensor(-1.), 'map_per_class': tensor(-1.), 'mar_100_per_class': tensor(-1.)}\n",
      "{'map': tensor(0.), 'map_50': tensor(0.), 'map_75': tensor(0.), 'map_small': tensor(0.), 'map_medium': tensor(-1.), 'map_large': tensor(-1.), 'mar_1': tensor(0.), 'mar_10': tensor(0.), 'mar_100': tensor(0.), 'mar_small': tensor(0.), 'mar_medium': tensor(-1.), 'mar_large': tensor(-1.), 'map_per_class': tensor(-1.), 'mar_100_per_class': tensor(-1.)}\n",
      "{'map': tensor(0.), 'map_50': tensor(0.), 'map_75': tensor(0.), 'map_small': tensor(0.), 'map_medium': tensor(-1.), 'map_large': tensor(-1.), 'mar_1': tensor(0.), 'mar_10': tensor(0.), 'mar_100': tensor(0.), 'mar_small': tensor(0.), 'mar_medium': tensor(-1.), 'mar_large': tensor(-1.), 'map_per_class': tensor(-1.), 'mar_100_per_class': tensor(-1.)}\n",
      "{'map': tensor(-1.), 'map_50': tensor(-1.), 'map_75': tensor(-1.), 'map_small': tensor(-1.), 'map_medium': tensor(-1.), 'map_large': tensor(-1.), 'mar_1': tensor(-1.), 'mar_10': tensor(-1.), 'mar_100': tensor(-1.), 'mar_small': tensor(-1.), 'mar_medium': tensor(-1.), 'mar_large': tensor(-1.), 'map_per_class': tensor(-1.), 'mar_100_per_class': tensor(-1.)}\n",
      "{'map': tensor(0.), 'map_50': tensor(0.), 'map_75': tensor(0.), 'map_small': tensor(0.), 'map_medium': tensor(-1.), 'map_large': tensor(-1.), 'mar_1': tensor(0.), 'mar_10': tensor(0.), 'mar_100': tensor(0.), 'mar_small': tensor(0.), 'mar_medium': tensor(-1.), 'mar_large': tensor(-1.), 'map_per_class': tensor(-1.), 'mar_100_per_class': tensor(-1.)}\n",
      "{'map': tensor(0.), 'map_50': tensor(0.), 'map_75': tensor(0.), 'map_small': tensor(0.), 'map_medium': tensor(-1.), 'map_large': tensor(-1.), 'mar_1': tensor(0.), 'mar_10': tensor(0.), 'mar_100': tensor(0.), 'mar_small': tensor(0.), 'mar_medium': tensor(-1.), 'mar_large': tensor(-1.), 'map_per_class': tensor(-1.), 'mar_100_per_class': tensor(-1.)}\n",
      "{'map': tensor(0.), 'map_50': tensor(0.), 'map_75': tensor(0.), 'map_small': tensor(0.), 'map_medium': tensor(-1.), 'map_large': tensor(-1.), 'mar_1': tensor(0.), 'mar_10': tensor(0.), 'mar_100': tensor(0.), 'mar_small': tensor(0.), 'mar_medium': tensor(-1.), 'mar_large': tensor(-1.), 'map_per_class': tensor(-1.), 'mar_100_per_class': tensor(-1.)}\n",
      "{'map': tensor(0.), 'map_50': tensor(0.), 'map_75': tensor(0.), 'map_small': tensor(0.), 'map_medium': tensor(-1.), 'map_large': tensor(-1.), 'mar_1': tensor(0.), 'mar_10': tensor(0.), 'mar_100': tensor(0.), 'mar_small': tensor(0.), 'mar_medium': tensor(-1.), 'mar_large': tensor(-1.), 'map_per_class': tensor(-1.), 'mar_100_per_class': tensor(-1.)}\n",
      "{'map': tensor(0.), 'map_50': tensor(0.), 'map_75': tensor(0.), 'map_small': tensor(0.), 'map_medium': tensor(-1.), 'map_large': tensor(-1.), 'mar_1': tensor(0.), 'mar_10': tensor(0.), 'mar_100': tensor(0.), 'mar_small': tensor(0.), 'mar_medium': tensor(-1.), 'mar_large': tensor(-1.), 'map_per_class': tensor(-1.), 'mar_100_per_class': tensor(-1.)}\n",
      "{'map': tensor(0.), 'map_50': tensor(0.), 'map_75': tensor(0.), 'map_small': tensor(0.), 'map_medium': tensor(-1.), 'map_large': tensor(-1.), 'mar_1': tensor(0.), 'mar_10': tensor(0.), 'mar_100': tensor(0.), 'mar_small': tensor(0.), 'mar_medium': tensor(-1.), 'mar_large': tensor(-1.), 'map_per_class': tensor(-1.), 'mar_100_per_class': tensor(-1.)}\n",
      "{'map': tensor(0.), 'map_50': tensor(0.), 'map_75': tensor(0.), 'map_small': tensor(0.), 'map_medium': tensor(-1.), 'map_large': tensor(-1.), 'mar_1': tensor(0.), 'mar_10': tensor(0.), 'mar_100': tensor(0.), 'mar_small': tensor(0.), 'mar_medium': tensor(-1.), 'mar_large': tensor(-1.), 'map_per_class': tensor(-1.), 'mar_100_per_class': tensor(-1.)}\n",
      "{'map': tensor(0.), 'map_50': tensor(0.), 'map_75': tensor(0.), 'map_small': tensor(0.), 'map_medium': tensor(-1.), 'map_large': tensor(-1.), 'mar_1': tensor(0.), 'mar_10': tensor(0.), 'mar_100': tensor(0.), 'mar_small': tensor(0.), 'mar_medium': tensor(-1.), 'mar_large': tensor(-1.), 'map_per_class': tensor(-1.), 'mar_100_per_class': tensor(-1.)}\n",
      "{'map': tensor(0.), 'map_50': tensor(0.), 'map_75': tensor(0.), 'map_small': tensor(0.), 'map_medium': tensor(-1.), 'map_large': tensor(-1.), 'mar_1': tensor(0.), 'mar_10': tensor(0.), 'mar_100': tensor(0.), 'mar_small': tensor(0.), 'mar_medium': tensor(-1.), 'mar_large': tensor(-1.), 'map_per_class': tensor(-1.), 'mar_100_per_class': tensor(-1.)}\n",
      "{'map': tensor(0.), 'map_50': tensor(0.), 'map_75': tensor(0.), 'map_small': tensor(0.), 'map_medium': tensor(-1.), 'map_large': tensor(-1.), 'mar_1': tensor(0.), 'mar_10': tensor(0.), 'mar_100': tensor(0.), 'mar_small': tensor(0.), 'mar_medium': tensor(-1.), 'mar_large': tensor(-1.), 'map_per_class': tensor(-1.), 'mar_100_per_class': tensor(-1.)}\n",
      "{'map': tensor(0.), 'map_50': tensor(0.), 'map_75': tensor(0.), 'map_small': tensor(0.), 'map_medium': tensor(-1.), 'map_large': tensor(-1.), 'mar_1': tensor(0.), 'mar_10': tensor(0.), 'mar_100': tensor(0.), 'mar_small': tensor(0.), 'mar_medium': tensor(-1.), 'mar_large': tensor(-1.), 'map_per_class': tensor(-1.), 'mar_100_per_class': tensor(-1.)}\n",
      "{'map': tensor(0.), 'map_50': tensor(0.), 'map_75': tensor(0.), 'map_small': tensor(0.), 'map_medium': tensor(-1.), 'map_large': tensor(-1.), 'mar_1': tensor(0.), 'mar_10': tensor(0.), 'mar_100': tensor(0.), 'mar_small': tensor(0.), 'mar_medium': tensor(-1.), 'mar_large': tensor(-1.), 'map_per_class': tensor(-1.), 'mar_100_per_class': tensor(-1.)}\n",
      "{'map': tensor(0.), 'map_50': tensor(0.), 'map_75': tensor(0.), 'map_small': tensor(0.), 'map_medium': tensor(-1.), 'map_large': tensor(-1.), 'mar_1': tensor(0.), 'mar_10': tensor(0.), 'mar_100': tensor(0.), 'mar_small': tensor(0.), 'mar_medium': tensor(-1.), 'mar_large': tensor(-1.), 'map_per_class': tensor(-1.), 'mar_100_per_class': tensor(-1.)}\n",
      "{'map': tensor(0.), 'map_50': tensor(0.), 'map_75': tensor(0.), 'map_small': tensor(0.), 'map_medium': tensor(-1.), 'map_large': tensor(-1.), 'mar_1': tensor(0.), 'mar_10': tensor(0.), 'mar_100': tensor(0.), 'mar_small': tensor(0.), 'mar_medium': tensor(-1.), 'mar_large': tensor(-1.), 'map_per_class': tensor(-1.), 'mar_100_per_class': tensor(-1.)}\n",
      "────────────────────────────────────────────────────────────────────────────────────────────────────────────────────────\r\n",
      "      Validate metric               DataLoader 0\r\n",
      "────────────────────────────────────────────────────────────────────────────────────────────────────────────────────────\r\n",
      "validation/cardinality_error     2.4000000953674316\r\n",
      "      validation/loss            3.030658006668091\r\n",
      "    validation/loss_bbox         0.1141071543097496\r\n",
      "     validation/loss_ce          1.2525643110275269\r\n",
      "    validation/loss_giou         0.6037787795066833\r\n",
      "────────────────────────────────────────────────────────────────────────────────────────────────────────────────────────\n",
      "[{'validation/loss': 3.030658006668091, 'validation/loss_ce': 1.2525643110275269, 'validation/loss_bbox': 0.1141071543097496, 'validation/loss_giou': 0.6037787795066833, 'validation/cardinality_error': 2.4000000953674316}]\n"
     ]
    }
   ],
   "source": [
    "model = YoloS(lr=0, weight_decay=0, model_size=MODEL_SIZE)\n",
    "model.load_from_checkpoint(checkpoint_path='../epoch=8-step=1098.ckpt', model_size=MODEL_SIZE)\n",
    "\n",
    "from pytorch_lightning import Trainer\n",
    "\n",
    "#We need to limit devices because parallelism screws everything up\n",
    "trainer = Trainer(\n",
    "    # fast_dev_run=True,\n",
    "    devices=1,\n",
    "    accelerator='cpu',\n",
    ")\n",
    "\n",
    "metrics = trainer.validate(model, verbose=True)\n",
    "print(metrics)"
   ],
   "metadata": {
    "collapsed": false,
    "pycharm": {
     "name": "#%%\n"
    }
   }
  },
  {
   "cell_type": "code",
   "execution_count": 80,
   "outputs": [
    {
     "name": "stdout",
     "output_type": "stream",
     "text": [
      "tensor([1, 1, 1, 1, 1, 1])\n",
      "tensor([0.7079, 0.7251, 0.4816, 0.5856, 0.5449, 0.7733], dtype=torch.float64,\n",
      "       grad_fn=<IndexBackward0>)\n",
      "tensor([[0.6719, 0.1988, 0.1555, 0.0944],\n",
      "        [0.6200, 0.2183, 0.2650, 0.1404],\n",
      "        [0.1481, 0.8249, 0.2956, 0.3485],\n",
      "        [0.6107, 0.2154, 0.1867, 0.1280],\n",
      "        [0.6564, 0.2253, 0.1241, 0.0711],\n",
      "        [0.6348, 0.2207, 0.2038, 0.0964]], dtype=torch.float64,\n",
      "       grad_fn=<IndexBackward0>)\n",
      "tensor([1., 1.], dtype=torch.float64)\n",
      "tensor([[0.5042, 0.4351, 0.1046, 0.1298],\n",
      "        [0.2975, 0.4718, 0.0565, 0.1310]], dtype=torch.float64)\n"
     ]
    }
   ],
   "source": [
    "iterdata = iter(val_dataloader)\n",
    "for _ in range(2):\n",
    "    next(iterdata)\n",
    "batch = next(iterdata)\n",
    "\n",
    "actualdata = batch['labels'][0]\n",
    "actualboxes = actualdata['boxes'].cpu().double()\n",
    "actualclasses = actualdata['class_labels'].cpu().double()\n",
    "modelout = model(pixel_values=batch['pixel_values'])\n",
    "pred_boxes = modelout.pred_boxes[0].cpu().double()\n",
    "\n",
    "\n",
    "\n",
    "boxes=pred_boxes\n",
    "scores=modelout.logits.cpu().double()[0, :, :].softmax(-1).max(-1).values\n",
    "labels=modelout.logits.cpu().double()[0, :, :].softmax(-1).max(-1).indices\n",
    "\n",
    "notempty = torch.logical_or(labels == 1, labels == 2)\n",
    "labels = labels[notempty]\n",
    "scores = scores[notempty]\n",
    "boxes = boxes[notempty]\n",
    "print(labels)\n",
    "print(scores)\n",
    "print(boxes)\n",
    "print(actualclasses)\n",
    "print(actualboxes)"
   ],
   "metadata": {
    "collapsed": false,
    "pycharm": {
     "name": "#%%\n"
    }
   }
  }
 ],
 "metadata": {
  "kernelspec": {
   "display_name": "Python 3",
   "language": "python",
   "name": "python3"
  },
  "language_info": {
   "codemirror_mode": {
    "name": "ipython",
    "version": 2
   },
   "file_extension": ".py",
   "mimetype": "text/x-python",
   "name": "python",
   "nbconvert_exporter": "python",
   "pygments_lexer": "ipython2",
   "version": "2.7.6"
  }
 },
 "nbformat": 4,
 "nbformat_minor": 0
}